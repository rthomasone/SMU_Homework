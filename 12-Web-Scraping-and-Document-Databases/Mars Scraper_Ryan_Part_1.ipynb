{
 "cells": [
  {
   "cell_type": "markdown",
   "metadata": {},
   "source": [
    "# Import Dependencies"
   ]
  },
  {
   "cell_type": "code",
   "execution_count": 12,
   "metadata": {},
   "outputs": [],
   "source": [
    "from bs4 import BeautifulSoup\n",
    "import pandas as pd\n",
    "from splinter import Browser\n",
    "from datetime import datetime\n",
    "import json\n",
    "import time\n",
    "import pymongo"
   ]
  },
  {
   "cell_type": "markdown",
   "metadata": {},
   "source": [
    "# MARS NEWS"
   ]
  },
  {
   "cell_type": "markdown",
   "metadata": {},
   "source": [
    "# Web Scrape: Using Splinter "
   ]
  },
  {
   "cell_type": "code",
   "execution_count": 2,
   "metadata": {},
   "outputs": [],
   "source": [
    "#browser.quit()"
   ]
  },
  {
   "cell_type": "code",
   "execution_count": 3,
   "metadata": {},
   "outputs": [],
   "source": [
    "def scrapeMarsInfo():\n",
    "    #Using Splinter to Web Scrape\n",
    "    executable_path = {'executable_path': r\"/home/bdr/Desktop/chromedriver\"}\n",
    "    browser = Browser('chrome', **executable_path, headless=False)\n",
    "    \n",
    "    #*** URL 1: NASA Mars News ****\n",
    "    url = 'https://mars.nasa.gov/news/'\n",
    "    browser.visit(url)\n",
    "    time.sleep(4)\n",
    "\n",
    "    #Parse HTML\n",
    "    html = browser.html\n",
    "    soup = BeautifulSoup(html, \"lxml\")\n",
    "    titles = soup.find_all(class_=\"content_title\")\n",
    "    texts = soup.find_all(class_=\"article_teaser_body\")\n",
    "    \n",
    "    # Filter for First Title with a Link\n",
    "    firstTitle = \"\" \n",
    "    for title in titles:\n",
    "        if title.a:\n",
    "            firstTitle = title\n",
    "            break\n",
    "    \n",
    "    # Assign Target Elements to Variables\n",
    "    newsTitle = firstTitle.a.text.strip()\n",
    "    newsLink = \"https://mars.nasa.gov\" + firstTitle.a['href']\n",
    "    newsText = texts[0].text.strip()\n",
    "    \n",
    "    #*** URL 2: JPL Mars Space Images ****\n",
    "    url = 'https://www.jpl.nasa.gov/spaceimages/?search=&category=Mars'\n",
    "    browser.visit(url)\n",
    "    time.sleep(4)\n",
    "    html = browser.html\n",
    "    soup = BeautifulSoup(html, \"lxml\")\n",
    "    \n",
    "    #Capture Image\n",
    "    images = soup.find_all(class_=\"carousel_item\")\n",
    "    imageURL = 'https://www.jpl.nasa.gov' + images[0][\"style\"].split(\" \")[1].split(\"'\")[1]\n",
    "    \n",
    "    #*** URL 3: Mars Weather ****\n",
    "    url = 'https://twitter.com/marswxreport?lang=en'\n",
    "    browser.visit(url)\n",
    "    time.sleep(4)\n",
    "    html = browser.html\n",
    "    soup = BeautifulSoup(html, \"lxml\")\n",
    "    \n",
    "    #Capture Weather\n",
    "    allTweets_Maybe = soup.find_all(\"span\")\n",
    "    tweetText = \"\"\n",
    "    for tweet in allTweets_Maybe:\n",
    "        if tweet.text:\n",
    "            if \"InSight sol\" in tweet.text:\n",
    "                tweetText = tweet.text\n",
    "                break\n",
    "                \n",
    "    allLinks_Maybe = soup.find_all(\"a\")\n",
    "    tweetLink = \"\"\n",
    "    for link in allLinks_Maybe:\n",
    "        if link['href']:\n",
    "            if \"status\" in link[\"href\"]:\n",
    "                tweetLink = \"https://www.twitter.com\" + link[\"href\"]\n",
    "                break\n",
    "    \n",
    "    #*** URL 4: Mars Facts ****\n",
    "    url = 'https://space-facts.com/mars/'\n",
    "    browser.visit(url)\n",
    "    time.sleep(4)\n",
    "    html = browser.html\n",
    "    dfs = pd.read_html(html)\n",
    "    stats = dfs[0]\n",
    "    stats.columns = [\"Attribute\", \"Value\"]\n",
    "    \n",
    "    #format and save\n",
    "    #data_html = stats.to_html(index=False)\n",
    "    data_stats = json.loads(stats.to_json(orient=\"records\"))\n",
    "\n",
    "    # GET NEW INFORMATION HERE    \n",
    "    \n",
    "    # Close Browser\n",
    "    browser.quit()\n",
    "    \n",
    "    # Create Dictionary with Target Information\n",
    "    rtnDict = {\n",
    "        \"newsTitle\": newsTitle,\n",
    "        \"newsLink\": newsLink,\n",
    "        \"newsText\": newsText,\n",
    "        \"featureImageURL\": imageURL,\n",
    "        \"tweetWeatherURL\": tweetLink,\n",
    "        \"tweetWeatherText\": tweetText,\n",
    "        #\"marsStatsHTML\": data_html,\n",
    "        \"marsStats\": data_stats,\n",
    "        \"dateScraped\": datetime.now()\n",
    "    }\n",
    "    \n",
    "    return rtnDict\n",
    "    "
   ]
  },
  {
   "cell_type": "code",
   "execution_count": 4,
   "metadata": {},
   "outputs": [],
   "source": [
    "marsNews = scrapeMarsInfo()"
   ]
  },
  {
   "cell_type": "code",
   "execution_count": 5,
   "metadata": {},
   "outputs": [
    {
     "data": {
      "text/plain": [
       "{'newsTitle': \"How NASA's Mars Helicopter Will Reach the Red Planet's Surface\",\n",
       " 'newsLink': 'https://mars.nasa.gov/news/8699/how-nasas-mars-helicopter-will-reach-the-red-planets-surface/',\n",
       " 'newsText': 'The small craft will seek to prove that powered, controlled flight is possible on another planet. But just getting it onto the surface of Mars will take a whole lot of ingenuity.',\n",
       " 'featureImageURL': 'https://www.jpl.nasa.gov/spaceimages/images/wallpaper/PIA17832-1920x1200.jpg',\n",
       " 'tweetWeatherURL': 'https://www.twitter.com/MarsWxReport/status/1276921019371053056',\n",
       " 'tweetWeatherText': 'InSight sol 563 (2020-06-27) low -89.5ºC (-129.1ºF) high -3.9ºC (25.0ºF)\\nwinds from the SW at 5.5 m/s (12.3 mph) gusting to 18.5 m/s (41.3 mph)\\npressure at 7.60 hPa',\n",
       " 'marsStats': [{'Attribute': 'Equatorial Diameter:', 'Value': '6,792 km'},\n",
       "  {'Attribute': 'Polar Diameter:', 'Value': '6,752 km'},\n",
       "  {'Attribute': 'Mass:', 'Value': '6.39 × 10^23 kg (0.11 Earths)'},\n",
       "  {'Attribute': 'Moons:', 'Value': '2 (Phobos & Deimos)'},\n",
       "  {'Attribute': 'Orbit Distance:', 'Value': '227,943,824 km (1.38 AU)'},\n",
       "  {'Attribute': 'Orbit Period:', 'Value': '687 days (1.9 years)'},\n",
       "  {'Attribute': 'Surface Temperature:', 'Value': '-87 to -5 °C'},\n",
       "  {'Attribute': 'First Record:', 'Value': '2nd millennium BC'},\n",
       "  {'Attribute': 'Recorded By:', 'Value': 'Egyptian astronomers'}],\n",
       " 'dateScraped': datetime.datetime(2020, 6, 27, 19, 8, 34, 386841)}"
      ]
     },
     "execution_count": 5,
     "metadata": {},
     "output_type": "execute_result"
    }
   ],
   "source": [
    "marsNews"
   ]
  },
  {
   "cell_type": "markdown",
   "metadata": {},
   "source": [
    "# Function 1: Web Scrape Mars News Portal"
   ]
  },
  {
   "cell_type": "code",
   "execution_count": null,
   "metadata": {},
   "outputs": [],
   "source": []
  },
  {
   "cell_type": "markdown",
   "metadata": {},
   "source": [
    "# Publish JSON to Mongo Database"
   ]
  },
  {
   "cell_type": "markdown",
   "metadata": {},
   "source": [
    "### Create connection variable"
   ]
  },
  {
   "cell_type": "code",
   "execution_count": 13,
   "metadata": {},
   "outputs": [],
   "source": [
    "conn = 'mongodb://localhost:27017'\n",
    "client = pymongo.MongoClient(conn)\n",
    "db = client.mars_news"
   ]
  },
  {
   "cell_type": "markdown",
   "metadata": {},
   "source": [
    "### Connect to a database. Will create one if not already available."
   ]
  },
  {
   "cell_type": "code",
   "execution_count": 15,
   "metadata": {},
   "outputs": [],
   "source": []
  },
  {
   "cell_type": "markdown",
   "metadata": {},
   "source": [
    "### Inserts Document into Database"
   ]
  },
  {
   "cell_type": "code",
   "execution_count": 17,
   "metadata": {},
   "outputs": [
    {
     "data": {
      "text/plain": [
       "dict"
      ]
     },
     "execution_count": 17,
     "metadata": {},
     "output_type": "execute_result"
    }
   ],
   "source": [
    "type(marsNews)"
   ]
  },
  {
   "cell_type": "code",
   "execution_count": 19,
   "metadata": {},
   "outputs": [
    {
     "data": {
      "text/plain": [
       "<pymongo.results.InsertOneResult at 0x7fb9a07190f0>"
      ]
     },
     "execution_count": 19,
     "metadata": {},
     "output_type": "execute_result"
    }
   ],
   "source": [
    "db.mars.insert_one(marsNews)"
   ]
  },
  {
   "cell_type": "code",
   "execution_count": null,
   "metadata": {},
   "outputs": [],
   "source": []
  }
 ],
 "metadata": {
  "kernelspec": {
   "display_name": "Python 3",
   "language": "python",
   "name": "python3"
  },
  "language_info": {
   "codemirror_mode": {
    "name": "ipython",
    "version": 3
   },
   "file_extension": ".py",
   "mimetype": "text/x-python",
   "name": "python",
   "nbconvert_exporter": "python",
   "pygments_lexer": "ipython3",
   "version": "3.7.6"
  }
 },
 "nbformat": 4,
 "nbformat_minor": 2
}
