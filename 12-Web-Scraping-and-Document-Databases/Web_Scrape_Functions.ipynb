{
 "cells": [
  {
   "cell_type": "markdown",
   "metadata": {},
   "source": [
    "# Import Dependencies"
   ]
  },
  {
   "cell_type": "code",
   "execution_count": 1,
   "metadata": {},
   "outputs": [],
   "source": [
    "from bs4 import BeautifulSoup\n",
    "import pandas as pd\n",
    "from splinter import Browser\n",
    "from datetime import datetime\n",
    "import json\n",
    "import time\n",
    "import pymongo"
   ]
  },
  {
   "cell_type": "markdown",
   "metadata": {},
   "source": [
    "# Create Funtion to Web Scrape Individual Pages\n",
    "\n",
    "### Function 1: Mars Exploration Program News"
   ]
  },
  {
   "cell_type": "code",
   "execution_count": 2,
   "metadata": {},
   "outputs": [],
   "source": [
    "def scrape_URL_1():\n",
    "    #Leverage Splinter to Web Scrape\n",
    "    executable_path = {'executable_path': r\"/home/bdr/Desktop/chromedriver\"}\n",
    "    browser = Browser('chrome', **executable_path, headless=True)\n",
    "    \n",
    "    #*** URL 1: NASA Mars News ****\n",
    "    url = 'https://mars.nasa.gov/news/'\n",
    "    browser.visit(url)\n",
    "    time.sleep(4)\n",
    "\n",
    "    #Parse HTML\n",
    "    html = browser.html\n",
    "    soup = BeautifulSoup(html, \"lxml\")\n",
    "    titles = soup.find_all(class_=\"content_title\")\n",
    "    texts = soup.find_all(class_=\"article_teaser_body\")\n",
    "    \n",
    "    # Close Browser\n",
    "    browser.quit()\n",
    "    \n",
    "    # Filter for First Title with a Link\n",
    "    firstTitle = \"\" \n",
    "    for title in titles:\n",
    "        if title.a:\n",
    "            firstTitle = title\n",
    "            break\n",
    "    \n",
    "    # Assign Target Elements to Variables\n",
    "    newsTitle = firstTitle.a.text.strip()\n",
    "    newsLink = \"https://mars.nasa.gov\" + firstTitle.a['href']\n",
    "    newsText = texts[0].text.strip()\n",
    "    \n",
    "    # Create Dictionary with Target Information\n",
    "    rtnDict = {\n",
    "        \"newsTitle\": newsTitle,\n",
    "        \"newsLink\": newsLink,\n",
    "        \"newsText\": newsText\n",
    "    }\n",
    "    \n",
    "    return rtnDict"
   ]
  },
  {
   "cell_type": "code",
   "execution_count": 3,
   "metadata": {},
   "outputs": [
    {
     "data": {
      "text/plain": [
       "{'newsTitle': \"How NASA's Mars Helicopter Will Reach the Red Planet's Surface\",\n",
       " 'newsLink': 'https://mars.nasa.gov/news/8699/how-nasas-mars-helicopter-will-reach-the-red-planets-surface/',\n",
       " 'newsText': 'The small craft will seek to prove that powered, controlled flight is possible on another planet. But just getting it onto the surface of Mars will take a whole lot of ingenuity.'}"
      ]
     },
     "execution_count": 3,
     "metadata": {},
     "output_type": "execute_result"
    }
   ],
   "source": [
    "mars_news = scrape_URL_1()\n",
    "mars_news"
   ]
  },
  {
   "cell_type": "markdown",
   "metadata": {},
   "source": [
    "### Function 2: JPL Image"
   ]
  },
  {
   "cell_type": "code",
   "execution_count": 4,
   "metadata": {},
   "outputs": [],
   "source": [
    "def scrape_URL_2():\n",
    "    #Leverage Splinter to Web Scrape\n",
    "    executable_path = {'executable_path': r\"/home/bdr/Desktop/chromedriver\"}\n",
    "    browser = Browser('chrome', **executable_path, headless=True)\n",
    "    \n",
    "    #*** URL 2: JPL Mars Space Images ****\n",
    "    url = 'https://www.jpl.nasa.gov/spaceimages/?search=&category=Mars'\n",
    "    browser.visit(url)\n",
    "    time.sleep(4)\n",
    "    \n",
    "    #Parse HTML\n",
    "    html = browser.html\n",
    "    soup = BeautifulSoup(html, \"lxml\")\n",
    " \n",
    "    # Close Browser\n",
    "    browser.quit()\n",
    "\n",
    "    #Capture Image\n",
    "    images = soup.find_all(class_=\"carousel_item\")\n",
    "    imageURL = 'https://www.jpl.nasa.gov' + images[0][\"style\"].split(\" \")[1].split(\"'\")[1]\n",
    "    \n",
    "    # Create Dictionary with Target Information\n",
    "    rtnDict = {\n",
    "        \"featureImageURL\": imageURL\n",
    "    }\n",
    "    \n",
    "    return rtnDict"
   ]
  },
  {
   "cell_type": "code",
   "execution_count": 5,
   "metadata": {},
   "outputs": [
    {
     "data": {
      "text/plain": [
       "{'featureImageURL': 'https://www.jpl.nasa.gov/spaceimages/images/wallpaper/PIA12826-1920x1200.jpg'}"
      ]
     },
     "execution_count": 5,
     "metadata": {},
     "output_type": "execute_result"
    }
   ],
   "source": [
    "jpl_image = scrape_URL_2()\n",
    "jpl_image"
   ]
  },
  {
   "cell_type": "markdown",
   "metadata": {},
   "source": [
    "### Function 3: Mars Weather"
   ]
  },
  {
   "cell_type": "code",
   "execution_count": 6,
   "metadata": {},
   "outputs": [],
   "source": [
    "def scrape_URL_3():\n",
    "    #Leverage Splinter to Web Scrape\n",
    "    executable_path = {'executable_path': r\"/home/bdr/Desktop/chromedriver\"}\n",
    "    browser = Browser('chrome', **executable_path, headless=True)\n",
    "    \n",
    "    #*** URL 3: Mars Weather ****\n",
    "    url = 'https://twitter.com/marswxreport?lang=en'\n",
    "    browser.visit(url)\n",
    "    time.sleep(4)\n",
    "    \n",
    "    #Parse HTML\n",
    "    html = browser.html\n",
    "    soup = BeautifulSoup(html, \"lxml\")\n",
    "    \n",
    "    # Close Browser\n",
    "    browser.quit()    \n",
    "    \n",
    "    #Capture Weather\n",
    "    allTweets_Maybe = soup.find_all(\"span\")\n",
    "    tweetText = \"\"\n",
    "    for tweet in allTweets_Maybe:\n",
    "        if tweet.text:\n",
    "            if \"InSight sol\" in tweet.text:\n",
    "                tweetText = tweet.text\n",
    "                break\n",
    "                \n",
    "    allLinks_Maybe = soup.find_all(\"a\")\n",
    "    tweetLink = \"\"\n",
    "    for link in allLinks_Maybe:\n",
    "        if link['href']:\n",
    "            if \"status\" in link[\"href\"]:\n",
    "                tweetLink = \"https://www.twitter.com\" + link[\"href\"]\n",
    "                break\n",
    " \n",
    "\n",
    "    \n",
    "    # Create Dictionary with Target Information\n",
    "    rtnDict = {\n",
    "        \"tweetWeatherURL\": tweetLink,\n",
    "        \"tweetWeatherText\": tweetText\n",
    "    }\n",
    "    \n",
    "    return rtnDict"
   ]
  },
  {
   "cell_type": "code",
   "execution_count": 7,
   "metadata": {},
   "outputs": [
    {
     "data": {
      "text/plain": [
       "{'tweetWeatherURL': 'https://www.twitter.com/MarsWxReport/status/1277283412705972226',\n",
       " 'tweetWeatherText': 'InSight sol 564 (2020-06-28) low -89.3ºC (-128.8ºF) high -4.3ºC (24.2ºF)\\nwinds from the SSW at 5.0 m/s (11.3 mph) gusting to 15.4 m/s (34.4 mph)\\npressure at 7.70 hPa'}"
      ]
     },
     "execution_count": 7,
     "metadata": {},
     "output_type": "execute_result"
    }
   ],
   "source": [
    "mars_weather = scrape_URL_3()\n",
    "mars_weather"
   ]
  },
  {
   "cell_type": "markdown",
   "metadata": {},
   "source": [
    "### Function 4: Mars Facts"
   ]
  },
  {
   "cell_type": "code",
   "execution_count": 8,
   "metadata": {},
   "outputs": [],
   "source": [
    "def scrape_URL_4():\n",
    "    #Leverage Splinter to Web Scrape\n",
    "    executable_path = {'executable_path': r\"/home/bdr/Desktop/chromedriver\"}\n",
    "    browser = Browser('chrome', **executable_path, headless=True)\n",
    "    \n",
    "    #*** URL 4: Mars Facts ****\n",
    "    url = 'https://space-facts.com/mars/'\n",
    "    browser.visit(url)\n",
    "    time.sleep(4)\n",
    "    \n",
    "    #Parse HTML\n",
    "    #Returns List of Tables: Target Table is the First\n",
    "    html = browser.html\n",
    "    dfs = pd.read_html(html)\n",
    "    stats = dfs[0]\n",
    "    stats.columns = [\"Attribute\", \"Value\"]\n",
    "    \n",
    "    #JSONify Table\n",
    "    data_stats = json.loads(stats.to_json(orient=\"records\"))\n",
    "    \n",
    "    #Close Browser\n",
    "    browser.quit()    \n",
    " \n",
    "\n",
    "    # Create Dictionary with Target Information\n",
    "    rtnDict = {\n",
    "        \"marsStats\": data_stats,\n",
    "        \"dateScraped\": datetime.now()\n",
    "    }\n",
    "    \n",
    "    return rtnDict"
   ]
  },
  {
   "cell_type": "code",
   "execution_count": 9,
   "metadata": {},
   "outputs": [
    {
     "data": {
      "text/plain": [
       "{'marsStats': [{'Attribute': 'Equatorial Diameter:', 'Value': '6,792 km'},\n",
       "  {'Attribute': 'Polar Diameter:', 'Value': '6,752 km'},\n",
       "  {'Attribute': 'Mass:', 'Value': '6.39 × 10^23 kg (0.11 Earths)'},\n",
       "  {'Attribute': 'Moons:', 'Value': '2 (Phobos & Deimos)'},\n",
       "  {'Attribute': 'Orbit Distance:', 'Value': '227,943,824 km (1.38 AU)'},\n",
       "  {'Attribute': 'Orbit Period:', 'Value': '687 days (1.9 years)'},\n",
       "  {'Attribute': 'Surface Temperature:', 'Value': '-87 to -5 °C'},\n",
       "  {'Attribute': 'First Record:', 'Value': '2nd millennium BC'},\n",
       "  {'Attribute': 'Recorded By:', 'Value': 'Egyptian astronomers'}],\n",
       " 'dateScraped': datetime.datetime(2020, 6, 28, 22, 37, 44, 43735)}"
      ]
     },
     "execution_count": 9,
     "metadata": {},
     "output_type": "execute_result"
    }
   ],
   "source": [
    "mars_facts = scrape_URL_4()\n",
    "mars_facts"
   ]
  },
  {
   "cell_type": "markdown",
   "metadata": {},
   "source": [
    "# Merge Dictionaries"
   ]
  },
  {
   "cell_type": "code",
   "execution_count": 10,
   "metadata": {},
   "outputs": [],
   "source": [
    "def Merge(dict1, dict2, dict3, dict4): \n",
    "\n",
    "    merged_dict = {**dict1, **dict2, **dict3, **dict4} \n",
    "\n",
    "    return merged_dict"
   ]
  },
  {
   "cell_type": "code",
   "execution_count": 11,
   "metadata": {},
   "outputs": [
    {
     "data": {
      "text/plain": [
       "{'newsTitle': \"How NASA's Mars Helicopter Will Reach the Red Planet's Surface\",\n",
       " 'newsLink': 'https://mars.nasa.gov/news/8699/how-nasas-mars-helicopter-will-reach-the-red-planets-surface/',\n",
       " 'newsText': 'The small craft will seek to prove that powered, controlled flight is possible on another planet. But just getting it onto the surface of Mars will take a whole lot of ingenuity.',\n",
       " 'featureImageURL': 'https://www.jpl.nasa.gov/spaceimages/images/wallpaper/PIA12826-1920x1200.jpg',\n",
       " 'tweetWeatherURL': 'https://www.twitter.com/MarsWxReport/status/1277283412705972226',\n",
       " 'tweetWeatherText': 'InSight sol 564 (2020-06-28) low -89.3ºC (-128.8ºF) high -4.3ºC (24.2ºF)\\nwinds from the SSW at 5.0 m/s (11.3 mph) gusting to 15.4 m/s (34.4 mph)\\npressure at 7.70 hPa',\n",
       " 'marsStats': [{'Attribute': 'Equatorial Diameter:', 'Value': '6,792 km'},\n",
       "  {'Attribute': 'Polar Diameter:', 'Value': '6,752 km'},\n",
       "  {'Attribute': 'Mass:', 'Value': '6.39 × 10^23 kg (0.11 Earths)'},\n",
       "  {'Attribute': 'Moons:', 'Value': '2 (Phobos & Deimos)'},\n",
       "  {'Attribute': 'Orbit Distance:', 'Value': '227,943,824 km (1.38 AU)'},\n",
       "  {'Attribute': 'Orbit Period:', 'Value': '687 days (1.9 years)'},\n",
       "  {'Attribute': 'Surface Temperature:', 'Value': '-87 to -5 °C'},\n",
       "  {'Attribute': 'First Record:', 'Value': '2nd millennium BC'},\n",
       "  {'Attribute': 'Recorded By:', 'Value': 'Egyptian astronomers'}],\n",
       " 'dateScraped': datetime.datetime(2020, 6, 28, 22, 37, 44, 43735)}"
      ]
     },
     "execution_count": 11,
     "metadata": {},
     "output_type": "execute_result"
    }
   ],
   "source": [
    "mars_info = Merge(mars_news, jpl_image, mars_weather, mars_facts)\n",
    "mars_info"
   ]
  },
  {
   "cell_type": "markdown",
   "metadata": {},
   "source": [
    "# Web Scrape Function\n",
    "\n",
    "### Leveraging individual functions"
   ]
  },
  {
   "cell_type": "code",
   "execution_count": 12,
   "metadata": {},
   "outputs": [],
   "source": [
    "def webSrapeMars():\n",
    "    mars_news = scrape_URL_1()\n",
    "    jpl_image = scrape_URL_2()\n",
    "    mars_weather = scrape_URL_3()\n",
    "    mars_facts = scrape_URL_4()\n",
    "    \n",
    "    #consolidate individual dictionaries\n",
    "    mars_info = Merge(mars_news, jpl_image, mars_weather, mars_facts)\n",
    "    \n",
    "    return mars_info"
   ]
  },
  {
   "cell_type": "code",
   "execution_count": 13,
   "metadata": {},
   "outputs": [
    {
     "data": {
      "text/plain": [
       "{'newsTitle': \"How NASA's Mars Helicopter Will Reach the Red Planet's Surface\",\n",
       " 'newsLink': 'https://mars.nasa.gov/news/8699/how-nasas-mars-helicopter-will-reach-the-red-planets-surface/',\n",
       " 'newsText': 'The small craft will seek to prove that powered, controlled flight is possible on another planet. But just getting it onto the surface of Mars will take a whole lot of ingenuity.',\n",
       " 'featureImageURL': 'https://www.jpl.nasa.gov/spaceimages/images/wallpaper/PIA12826-1920x1200.jpg',\n",
       " 'tweetWeatherURL': 'https://www.twitter.com/MarsWxReport/status/1277283412705972226',\n",
       " 'tweetWeatherText': 'InSight sol 564 (2020-06-28) low -89.3ºC (-128.8ºF) high -4.3ºC (24.2ºF)\\nwinds from the SSW at 5.0 m/s (11.3 mph) gusting to 15.4 m/s (34.4 mph)\\npressure at 7.70 hPa',\n",
       " 'marsStats': [{'Attribute': 'Equatorial Diameter:', 'Value': '6,792 km'},\n",
       "  {'Attribute': 'Polar Diameter:', 'Value': '6,752 km'},\n",
       "  {'Attribute': 'Mass:', 'Value': '6.39 × 10^23 kg (0.11 Earths)'},\n",
       "  {'Attribute': 'Moons:', 'Value': '2 (Phobos & Deimos)'},\n",
       "  {'Attribute': 'Orbit Distance:', 'Value': '227,943,824 km (1.38 AU)'},\n",
       "  {'Attribute': 'Orbit Period:', 'Value': '687 days (1.9 years)'},\n",
       "  {'Attribute': 'Surface Temperature:', 'Value': '-87 to -5 °C'},\n",
       "  {'Attribute': 'First Record:', 'Value': '2nd millennium BC'},\n",
       "  {'Attribute': 'Recorded By:', 'Value': 'Egyptian astronomers'}],\n",
       " 'dateScraped': datetime.datetime(2020, 6, 28, 22, 38, 26, 151640)}"
      ]
     },
     "execution_count": 13,
     "metadata": {},
     "output_type": "execute_result"
    }
   ],
   "source": [
    "full_scrape = webSrapeMars()\n",
    "full_scrape"
   ]
  },
  {
   "cell_type": "markdown",
   "metadata": {},
   "source": [
    "# Function: Publish Dictionary to Mongo Database"
   ]
  },
  {
   "cell_type": "code",
   "execution_count": 14,
   "metadata": {},
   "outputs": [],
   "source": [
    "def publishToMongo (dict):\n",
    "    \n",
    "    #Create Connection\n",
    "    conn = 'mongodb://localhost:27017'\n",
    "    client = pymongo.MongoClient(conn)\n",
    "    \n",
    "    #Connect to Databse\n",
    "    db = client.mars_news\n",
    "    \n",
    "    #Insert Document into Collection\n",
    "    db.mars.insert_one(dict)\n",
    "    \n",
    "    #Disconnect from Database\n",
    "    #conn.close()"
   ]
  },
  {
   "cell_type": "code",
   "execution_count": 15,
   "metadata": {},
   "outputs": [],
   "source": [
    "publishToMongo(full_scrape)"
   ]
  },
  {
   "cell_type": "markdown",
   "metadata": {},
   "source": [
    "# Function: Validate Records in Mongo Database"
   ]
  },
  {
   "cell_type": "code",
   "execution_count": 16,
   "metadata": {},
   "outputs": [],
   "source": [
    "def outputFieldsMongo():\n",
    "\n",
    "    #Create Connection\n",
    "    conn = 'mongodb://localhost:27017'\n",
    "    client = pymongo.MongoClient(conn)\n",
    "    \n",
    "    #Connect to Databse\n",
    "    db = client.mars_news\n",
    "    \n",
    "    #Insert Document into Collection\n",
    "    records = db.mars.find()\n",
    "    \n",
    "    #Disconnect from Database\n",
    "    #conn.close()\n",
    "    \n",
    "    for record in records:\n",
    "        print(record)"
   ]
  },
  {
   "cell_type": "code",
   "execution_count": 17,
   "metadata": {},
   "outputs": [
    {
     "name": "stdout",
     "output_type": "stream",
     "text": [
      "{'_id': ObjectId('5ef7ee9ed816f0537a4a2c8c'), 'newsTitle': \"How NASA's Mars Helicopter Will Reach the Red Planet's Surface\", 'newsLink': 'https://mars.nasa.gov/news/8699/how-nasas-mars-helicopter-will-reach-the-red-planets-surface/', 'newsText': 'The small craft will seek to prove that powered, controlled flight is possible on another planet. But just getting it onto the surface of Mars will take a whole lot of ingenuity.', 'featureImageURL': 'https://www.jpl.nasa.gov/spaceimages/images/wallpaper/PIA17832-1920x1200.jpg', 'tweetWeatherURL': 'https://www.twitter.com/MarsWxReport/status/1276921019371053056', 'tweetWeatherText': 'InSight sol 563 (2020-06-27) low -89.5ºC (-129.1ºF) high -3.9ºC (25.0ºF)\\nwinds from the SW at 5.5 m/s (12.3 mph) gusting to 18.5 m/s (41.3 mph)\\npressure at 7.60 hPa', 'marsStats': [{'Attribute': 'Equatorial Diameter:', 'Value': '6,792 km'}, {'Attribute': 'Polar Diameter:', 'Value': '6,752 km'}, {'Attribute': 'Mass:', 'Value': '6.39 × 10^23 kg (0.11 Earths)'}, {'Attribute': 'Moons:', 'Value': '2 (Phobos & Deimos)'}, {'Attribute': 'Orbit Distance:', 'Value': '227,943,824 km (1.38 AU)'}, {'Attribute': 'Orbit Period:', 'Value': '687 days (1.9 years)'}, {'Attribute': 'Surface Temperature:', 'Value': '-87 to -5 °C'}, {'Attribute': 'First Record:', 'Value': '2nd millennium BC'}, {'Attribute': 'Recorded By:', 'Value': 'Egyptian astronomers'}], 'dateScraped': datetime.datetime(2020, 6, 27, 19, 8, 34, 386000)}\n",
      "{'_id': ObjectId('5ef9588c8c766ca5b328a5f1'), 'newsTitle': \"How NASA's Mars Helicopter Will Reach the Red Planet's Surface\", 'newsLink': 'https://mars.nasa.gov/news/8699/how-nasas-mars-helicopter-will-reach-the-red-planets-surface/', 'newsText': 'The small craft will seek to prove that powered, controlled flight is possible on another planet. But just getting it onto the surface of Mars will take a whole lot of ingenuity.', 'featureImageURL': 'https://www.jpl.nasa.gov/spaceimages/images/wallpaper/PIA09320-1920x1200.jpg', 'tweetWeatherURL': 'https://www.twitter.com/MarsWxReport/status/1277283412705972226', 'tweetWeatherText': 'InSight sol 564 (2020-06-28) low -89.3ºC (-128.8ºF) high -4.3ºC (24.2ºF)\\nwinds from the SSW at 5.0 m/s (11.3 mph) gusting to 15.4 m/s (34.4 mph)\\npressure at 7.70 hPa', 'marsStats': [{'Attribute': 'Equatorial Diameter:', 'Value': '6,792 km'}, {'Attribute': 'Polar Diameter:', 'Value': '6,752 km'}, {'Attribute': 'Mass:', 'Value': '6.39 × 10^23 kg (0.11 Earths)'}, {'Attribute': 'Moons:', 'Value': '2 (Phobos & Deimos)'}, {'Attribute': 'Orbit Distance:', 'Value': '227,943,824 km (1.38 AU)'}, {'Attribute': 'Orbit Period:', 'Value': '687 days (1.9 years)'}, {'Attribute': 'Surface Temperature:', 'Value': '-87 to -5 °C'}, {'Attribute': 'First Record:', 'Value': '2nd millennium BC'}, {'Attribute': 'Recorded By:', 'Value': 'Egyptian astronomers'}], 'dateScraped': datetime.datetime(2020, 6, 28, 21, 51, 53, 192000)}\n",
      "{'_id': ObjectId('5ef95db6a8a7d2315acb1428'), 'newsTitle': \"How NASA's Mars Helicopter Will Reach the Red Planet's Surface\", 'newsLink': 'https://mars.nasa.gov/news/8699/how-nasas-mars-helicopter-will-reach-the-red-planets-surface/', 'newsText': 'The small craft will seek to prove that powered, controlled flight is possible on another planet. But just getting it onto the surface of Mars will take a whole lot of ingenuity.', 'featureImageURL': 'https://www.jpl.nasa.gov/spaceimages/images/wallpaper/PIA18906-1920x1200.jpg', 'tweetWeatherURL': 'https://www.twitter.com/MarsWxReport/status/1277283412705972226', 'tweetWeatherText': 'InSight sol 564 (2020-06-28) low -89.3ºC (-128.8ºF) high -4.3ºC (24.2ºF)\\nwinds from the SSW at 5.0 m/s (11.3 mph) gusting to 15.4 m/s (34.4 mph)\\npressure at 7.70 hPa', 'marsStats': [{'Attribute': 'Equatorial Diameter:', 'Value': '6,792 km'}, {'Attribute': 'Polar Diameter:', 'Value': '6,752 km'}, {'Attribute': 'Mass:', 'Value': '6.39 × 10^23 kg (0.11 Earths)'}, {'Attribute': 'Moons:', 'Value': '2 (Phobos & Deimos)'}, {'Attribute': 'Orbit Distance:', 'Value': '227,943,824 km (1.38 AU)'}, {'Attribute': 'Orbit Period:', 'Value': '687 days (1.9 years)'}, {'Attribute': 'Surface Temperature:', 'Value': '-87 to -5 °C'}, {'Attribute': 'First Record:', 'Value': '2nd millennium BC'}, {'Attribute': 'Recorded By:', 'Value': 'Egyptian astronomers'}], 'dateScraped': datetime.datetime(2020, 6, 28, 22, 19, 18, 100000)}\n",
      "{'_id': ObjectId('5ef962324c6de1c2b2bd5a17'), 'newsTitle': \"How NASA's Mars Helicopter Will Reach the Red Planet's Surface\", 'newsLink': 'https://mars.nasa.gov/news/8699/how-nasas-mars-helicopter-will-reach-the-red-planets-surface/', 'newsText': 'The small craft will seek to prove that powered, controlled flight is possible on another planet. But just getting it onto the surface of Mars will take a whole lot of ingenuity.', 'featureImageURL': 'https://www.jpl.nasa.gov/spaceimages/images/wallpaper/PIA12826-1920x1200.jpg', 'tweetWeatherURL': 'https://www.twitter.com/MarsWxReport/status/1277283412705972226', 'tweetWeatherText': 'InSight sol 564 (2020-06-28) low -89.3ºC (-128.8ºF) high -4.3ºC (24.2ºF)\\nwinds from the SSW at 5.0 m/s (11.3 mph) gusting to 15.4 m/s (34.4 mph)\\npressure at 7.70 hPa', 'marsStats': [{'Attribute': 'Equatorial Diameter:', 'Value': '6,792 km'}, {'Attribute': 'Polar Diameter:', 'Value': '6,752 km'}, {'Attribute': 'Mass:', 'Value': '6.39 × 10^23 kg (0.11 Earths)'}, {'Attribute': 'Moons:', 'Value': '2 (Phobos & Deimos)'}, {'Attribute': 'Orbit Distance:', 'Value': '227,943,824 km (1.38 AU)'}, {'Attribute': 'Orbit Period:', 'Value': '687 days (1.9 years)'}, {'Attribute': 'Surface Temperature:', 'Value': '-87 to -5 °C'}, {'Attribute': 'First Record:', 'Value': '2nd millennium BC'}, {'Attribute': 'Recorded By:', 'Value': 'Egyptian astronomers'}], 'dateScraped': datetime.datetime(2020, 6, 28, 22, 38, 26, 151000)}\n"
     ]
    }
   ],
   "source": [
    "outputFieldsMongo()"
   ]
  },
  {
   "cell_type": "code",
   "execution_count": null,
   "metadata": {},
   "outputs": [],
   "source": []
  }
 ],
 "metadata": {
  "kernelspec": {
   "display_name": "Python 3",
   "language": "python",
   "name": "python3"
  },
  "language_info": {
   "codemirror_mode": {
    "name": "ipython",
    "version": 3
   },
   "file_extension": ".py",
   "mimetype": "text/x-python",
   "name": "python",
   "nbconvert_exporter": "python",
   "pygments_lexer": "ipython3",
   "version": "3.7.6"
  }
 },
 "nbformat": 4,
 "nbformat_minor": 2
}
