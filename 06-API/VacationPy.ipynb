{
 "cells": [
  {
   "cell_type": "markdown",
   "metadata": {},
   "source": [
    "# VacationPy\n",
    "----\n",
    "\n",
    "#### Note\n",
    "* Instructions have been included for each segment. You do not have to follow them exactly, but they are included to help you think through the steps."
   ]
  },
  {
   "cell_type": "markdown",
   "metadata": {},
   "source": [
    "# Import Dependencies"
   ]
  },
  {
   "cell_type": "code",
   "execution_count": 1,
   "metadata": {},
   "outputs": [],
   "source": [
    "import matplotlib.pyplot as plt\n",
    "import pandas as pd\n",
    "import numpy as np\n",
    "import requests\n",
    "import gmaps\n",
    "import os\n",
    "import json\n",
    "from api_keys import g_key"
   ]
  },
  {
   "cell_type": "markdown",
   "metadata": {},
   "source": [
    "# Configure Google Maps"
   ]
  },
  {
   "cell_type": "code",
   "execution_count": 2,
   "metadata": {},
   "outputs": [],
   "source": [
    "gmaps.configure(api_key=g_key)"
   ]
  },
  {
   "cell_type": "markdown",
   "metadata": {},
   "source": [
    "### Store Part I results into DataFrame\n",
    "* Load the csv exported in Part I to a DataFrame"
   ]
  },
  {
   "cell_type": "code",
   "execution_count": 3,
   "metadata": {},
   "outputs": [
    {
     "data": {
      "text/html": [
       "<div>\n",
       "<style scoped>\n",
       "    .dataframe tbody tr th:only-of-type {\n",
       "        vertical-align: middle;\n",
       "    }\n",
       "\n",
       "    .dataframe tbody tr th {\n",
       "        vertical-align: top;\n",
       "    }\n",
       "\n",
       "    .dataframe thead th {\n",
       "        text-align: right;\n",
       "    }\n",
       "</style>\n",
       "<table border=\"1\" class=\"dataframe\">\n",
       "  <thead>\n",
       "    <tr style=\"text-align: right;\">\n",
       "      <th></th>\n",
       "      <th>City</th>\n",
       "      <th>Latitude</th>\n",
       "      <th>Longitude</th>\n",
       "      <th>Temperature</th>\n",
       "      <th>Humidity</th>\n",
       "      <th>Pressure</th>\n",
       "      <th>Wind Speed</th>\n",
       "      <th>Cloudiness</th>\n",
       "    </tr>\n",
       "  </thead>\n",
       "  <tbody>\n",
       "    <tr>\n",
       "      <th>0</th>\n",
       "      <td>port alfred</td>\n",
       "      <td>-33.59</td>\n",
       "      <td>26.89</td>\n",
       "      <td>15.56</td>\n",
       "      <td>89</td>\n",
       "      <td>1015</td>\n",
       "      <td>3.30</td>\n",
       "      <td>0</td>\n",
       "    </tr>\n",
       "    <tr>\n",
       "      <th>1</th>\n",
       "      <td>atuona</td>\n",
       "      <td>-9.80</td>\n",
       "      <td>-139.03</td>\n",
       "      <td>27.80</td>\n",
       "      <td>79</td>\n",
       "      <td>1011</td>\n",
       "      <td>7.82</td>\n",
       "      <td>2</td>\n",
       "    </tr>\n",
       "    <tr>\n",
       "      <th>2</th>\n",
       "      <td>vaini</td>\n",
       "      <td>-21.20</td>\n",
       "      <td>-175.20</td>\n",
       "      <td>27.00</td>\n",
       "      <td>74</td>\n",
       "      <td>1013</td>\n",
       "      <td>5.10</td>\n",
       "      <td>20</td>\n",
       "    </tr>\n",
       "    <tr>\n",
       "      <th>3</th>\n",
       "      <td>punta arenas</td>\n",
       "      <td>-53.15</td>\n",
       "      <td>-70.92</td>\n",
       "      <td>7.89</td>\n",
       "      <td>87</td>\n",
       "      <td>1011</td>\n",
       "      <td>6.70</td>\n",
       "      <td>20</td>\n",
       "    </tr>\n",
       "    <tr>\n",
       "      <th>4</th>\n",
       "      <td>rikitea</td>\n",
       "      <td>-23.12</td>\n",
       "      <td>-134.97</td>\n",
       "      <td>26.06</td>\n",
       "      <td>84</td>\n",
       "      <td>1013</td>\n",
       "      <td>6.75</td>\n",
       "      <td>100</td>\n",
       "    </tr>\n",
       "  </tbody>\n",
       "</table>\n",
       "</div>"
      ],
      "text/plain": [
       "           City  Latitude  Longitude  Temperature  Humidity  Pressure  \\\n",
       "0   port alfred    -33.59      26.89        15.56        89      1015   \n",
       "1        atuona     -9.80    -139.03        27.80        79      1011   \n",
       "2         vaini    -21.20    -175.20        27.00        74      1013   \n",
       "3  punta arenas    -53.15     -70.92         7.89        87      1011   \n",
       "4       rikitea    -23.12    -134.97        26.06        84      1013   \n",
       "\n",
       "   Wind Speed  Cloudiness  \n",
       "0        3.30           0  \n",
       "1        7.82           2  \n",
       "2        5.10          20  \n",
       "3        6.70          20  \n",
       "4        6.75         100  "
      ]
     },
     "execution_count": 3,
     "metadata": {},
     "output_type": "execute_result"
    }
   ],
   "source": [
    "df = pd.read_csv(\"weatherData.csv\")\n",
    "df.head()"
   ]
  },
  {
   "cell_type": "markdown",
   "metadata": {},
   "source": [
    "# Humidity Heatmap\n",
    "* Configure gmaps.\n",
    "* Use the Lat and Lng as locations and Humidity as the weight.\n",
    "* Add Heatmap layer to map."
   ]
  },
  {
   "cell_type": "code",
   "execution_count": 4,
   "metadata": {},
   "outputs": [],
   "source": [
    "locations = df[[\"Latitude\", \"Longitude\"]]\n",
    "\n",
    "humid = df[\"Humidity\"]"
   ]
  },
  {
   "cell_type": "code",
   "execution_count": 5,
   "metadata": {},
   "outputs": [
    {
     "data": {
      "application/vnd.jupyter.widget-view+json": {
       "model_id": "765468af11e94bd3a8e621e833dca837",
       "version_major": 2,
       "version_minor": 0
      },
      "text/plain": [
       "Figure(layout=FigureLayout(border='1px solid black', height='600px', margin='0 auto 0 auto', padding='1px', wi…"
      ]
     },
     "metadata": {},
     "output_type": "display_data"
    }
   ],
   "source": [
    "figure_layout = {\n",
    "    'width': '950px',\n",
    "    'height': '600px',\n",
    "    'border': '1px solid black',\n",
    "    'padding': '1px',\n",
    "    'margin': '0 auto 0 auto'\n",
    "}\n",
    "\n",
    "fig = gmaps.figure(map_type=\"HYBRID\", layout=figure_layout)\n",
    "heat_layer = gmaps.heatmap_layer(locations, weights=humid)\n",
    "\n",
    "fig.add_layer(heat_layer)\n",
    "fig"
   ]
  },
  {
   "cell_type": "markdown",
   "metadata": {},
   "source": [
    "# Ideal Weather Conditions"
   ]
  },
  {
   "cell_type": "markdown",
   "metadata": {},
   "source": [
    "### Create new DataFrame matching Ideal Weather Conditions\n",
    "\n",
    "DataFrame will contain cities with:\n",
    "- Temperatures between 21℃ and 26℃\n",
    "- Wind Speed less than 10\n",
    "- Cloudiness 10%"
   ]
  },
  {
   "cell_type": "code",
   "execution_count": 6,
   "metadata": {},
   "outputs": [
    {
     "data": {
      "text/html": [
       "<div>\n",
       "<style scoped>\n",
       "    .dataframe tbody tr th:only-of-type {\n",
       "        vertical-align: middle;\n",
       "    }\n",
       "\n",
       "    .dataframe tbody tr th {\n",
       "        vertical-align: top;\n",
       "    }\n",
       "\n",
       "    .dataframe thead th {\n",
       "        text-align: right;\n",
       "    }\n",
       "</style>\n",
       "<table border=\"1\" class=\"dataframe\">\n",
       "  <thead>\n",
       "    <tr style=\"text-align: right;\">\n",
       "      <th></th>\n",
       "      <th>City</th>\n",
       "      <th>Latitude</th>\n",
       "      <th>Longitude</th>\n",
       "      <th>Temperature</th>\n",
       "      <th>Humidity</th>\n",
       "      <th>Pressure</th>\n",
       "      <th>Wind Speed</th>\n",
       "      <th>Cloudiness</th>\n",
       "    </tr>\n",
       "  </thead>\n",
       "  <tbody>\n",
       "    <tr>\n",
       "      <th>0</th>\n",
       "      <td>soto la marina</td>\n",
       "      <td>23.77</td>\n",
       "      <td>-98.22</td>\n",
       "      <td>25.00</td>\n",
       "      <td>80</td>\n",
       "      <td>1014</td>\n",
       "      <td>5.36</td>\n",
       "      <td>0</td>\n",
       "    </tr>\n",
       "    <tr>\n",
       "      <th>1</th>\n",
       "      <td>vila velha</td>\n",
       "      <td>-20.33</td>\n",
       "      <td>-40.29</td>\n",
       "      <td>21.18</td>\n",
       "      <td>94</td>\n",
       "      <td>1018</td>\n",
       "      <td>1.50</td>\n",
       "      <td>0</td>\n",
       "    </tr>\n",
       "    <tr>\n",
       "      <th>2</th>\n",
       "      <td>redlands</td>\n",
       "      <td>34.06</td>\n",
       "      <td>-117.18</td>\n",
       "      <td>22.24</td>\n",
       "      <td>52</td>\n",
       "      <td>1008</td>\n",
       "      <td>1.79</td>\n",
       "      <td>0</td>\n",
       "    </tr>\n",
       "    <tr>\n",
       "      <th>3</th>\n",
       "      <td>katsuura</td>\n",
       "      <td>35.13</td>\n",
       "      <td>140.30</td>\n",
       "      <td>24.27</td>\n",
       "      <td>60</td>\n",
       "      <td>1013</td>\n",
       "      <td>6.70</td>\n",
       "      <td>0</td>\n",
       "    </tr>\n",
       "    <tr>\n",
       "      <th>4</th>\n",
       "      <td>tiznit</td>\n",
       "      <td>29.58</td>\n",
       "      <td>-9.50</td>\n",
       "      <td>21.07</td>\n",
       "      <td>44</td>\n",
       "      <td>1017</td>\n",
       "      <td>0.70</td>\n",
       "      <td>0</td>\n",
       "    </tr>\n",
       "  </tbody>\n",
       "</table>\n",
       "</div>"
      ],
      "text/plain": [
       "             City  Latitude  Longitude  Temperature  Humidity  Pressure  \\\n",
       "0  soto la marina     23.77     -98.22        25.00        80      1014   \n",
       "1      vila velha    -20.33     -40.29        21.18        94      1018   \n",
       "2        redlands     34.06    -117.18        22.24        52      1008   \n",
       "3        katsuura     35.13     140.30        24.27        60      1013   \n",
       "4          tiznit     29.58      -9.50        21.07        44      1017   \n",
       "\n",
       "   Wind Speed  Cloudiness  \n",
       "0        5.36           0  \n",
       "1        1.50           0  \n",
       "2        1.79           0  \n",
       "3        6.70           0  \n",
       "4        0.70           0  "
      ]
     },
     "execution_count": 6,
     "metadata": {},
     "output_type": "execute_result"
    }
   ],
   "source": [
    "mask1 = (df.Temperature >= 21) & (df.Temperature < 26)\n",
    "mask2 = df[\"Wind Speed\"] < 10\n",
    "mask3 = df.Cloudiness == 0\n",
    "mask4 = mask1 & mask2 & mask3\n",
    "\n",
    "ideal_cities = df.loc[mask4].reset_index(drop=True)\n",
    "ideal_cities.head()"
   ]
  },
  {
   "cell_type": "markdown",
   "metadata": {},
   "source": [
    "### Number of Ideal Cities"
   ]
  },
  {
   "cell_type": "code",
   "execution_count": 7,
   "metadata": {},
   "outputs": [
    {
     "data": {
      "text/plain": [
       "10"
      ]
     },
     "execution_count": 7,
     "metadata": {},
     "output_type": "execute_result"
    }
   ],
   "source": [
    "len(ideal_cities)"
   ]
  },
  {
   "cell_type": "markdown",
   "metadata": {},
   "source": [
    "### Map of Ideal Cities 1\n",
    "\n",
    "- markers to illustrate locations of ideal cities"
   ]
  },
  {
   "cell_type": "code",
   "execution_count": 8,
   "metadata": {},
   "outputs": [
    {
     "data": {
      "application/vnd.jupyter.widget-view+json": {
       "model_id": "3ea34e4d0ffe4a0ebb7572de78a38f28",
       "version_major": 2,
       "version_minor": 0
      },
      "text/plain": [
       "Figure(layout=FigureLayout(border='1px solid black', height='600px', margin='0 auto 0 auto', padding='1px', wi…"
      ]
     },
     "metadata": {},
     "output_type": "display_data"
    }
   ],
   "source": [
    "figure_layout = {\n",
    "    'width': '950px',\n",
    "    'height': '600px',\n",
    "    'border': '1px solid black',\n",
    "    'padding': '1px',\n",
    "    'margin': '0 auto 0 auto'\n",
    "}\n",
    "\n",
    "fig = gmaps.figure(map_type=\"TERRAIN\", layout=figure_layout)\n",
    "\n",
    "coordinates = ideal_cities[[\"Latitude\", \"Longitude\"]]\n",
    "\n",
    "# Assign the marker layer to a variable\n",
    "markers = gmaps.marker_layer(coordinates)\n",
    "\n",
    "# Add the layer to the map\n",
    "fig.add_layer(markers)\n",
    "fig"
   ]
  },
  {
   "cell_type": "markdown",
   "metadata": {},
   "source": [
    "### Map of Ideal Cities 2\n",
    "\n",
    "- include pop-up with details on ideal cities"
   ]
  },
  {
   "cell_type": "code",
   "execution_count": 9,
   "metadata": {},
   "outputs": [],
   "source": [
    "city_info = []\n",
    "\n",
    "for indx, row in ideal_cities.iterrows():\n",
    "    info_box = f\"\"\"\n",
    "                <dl>\n",
    "                <dt>Name</dt><dd>{row.City}</dd>\n",
    "                <dt>Temperature ℃</dt><dd>{row.Temperature}</dd>\n",
    "                <dt>Humidity</dt><dd>{row.Humidity}</dd>\n",
    "                <dt>Cloudiness</dt><dd>{row.Cloudiness}</dd>\n",
    "                </dl>\n",
    "                \"\"\"\n",
    "    city_info.append(info_box)"
   ]
  },
  {
   "cell_type": "code",
   "execution_count": 10,
   "metadata": {},
   "outputs": [
    {
     "data": {
      "application/vnd.jupyter.widget-view+json": {
       "model_id": "278833c51b8c419e969be576dfcca215",
       "version_major": 2,
       "version_minor": 0
      },
      "text/plain": [
       "Figure(layout=FigureLayout(height='420px'))"
      ]
     },
     "metadata": {},
     "output_type": "display_data"
    }
   ],
   "source": [
    "figure_layout = {\n",
    "    'width': '950px',\n",
    "    'height': '600px',\n",
    "    'border': '1px solid black',\n",
    "    'padding': '1px',\n",
    "    'margin': '0 auto 0 auto'\n",
    "}\n",
    "\n",
    "fig = gmaps.figure(map_type=\"TERRAIN\", layout=figure_layout)\n",
    "\n",
    "coordinates = ideal_cities[[\"Latitude\", \"Longitude\"]]\n",
    "\n",
    "marker_layer = gmaps.marker_layer(coordinates, info_box_content=city_info)\n",
    "fig = gmaps.figure()\n",
    "fig.add_layer(marker_layer)\n",
    "fig"
   ]
  },
  {
   "cell_type": "markdown",
   "metadata": {},
   "source": [
    "# Hotel Map\n",
    "* Store into variable named `hotel_df`.\n",
    "* Add a \"Hotel Name\" column to the DataFrame.\n",
    "* Set parameters to search for hotels with 5000 meters.\n",
    "* Hit the Google Places API for each city's coordinates.\n",
    "* Store the first Hotel result into the DataFrame.\n",
    "* Plot markers on top of the heatmap."
   ]
  },
  {
   "cell_type": "markdown",
   "metadata": {},
   "source": [
    "### Create New DataFrame"
   ]
  },
  {
   "cell_type": "code",
   "execution_count": 11,
   "metadata": {},
   "outputs": [],
   "source": [
    "hotel_df = ideal_cities"
   ]
  },
  {
   "cell_type": "markdown",
   "metadata": {},
   "source": [
    "### Create Function to Obtain Country\n",
    "\n",
    "- Using the latitude & longitude of the city\n",
    "- Make a request to Google API and capture the corresponding country"
   ]
  },
  {
   "cell_type": "code",
   "execution_count": 12,
   "metadata": {},
   "outputs": [],
   "source": [
    "def getCountryForCity(lat, long, df):    \n",
    "    rtnCountry = \"\"\n",
    "    \n",
    "    params = {\"key\": g_key}\n",
    "\n",
    "    base_url = \"https://maps.googleapis.com/maps/api/geocode/json\"\n",
    "\n",
    "    lat = df[\"Latitude\"][indx]\n",
    "    lng = df[\"Longitude\"][indx]\n",
    "\n",
    "    # update address key value\n",
    "    params['latlng'] = f\"{lat},{lng}\"\n",
    "\n",
    "    # make request\n",
    "    thing = requests.get(base_url, params=params)\n",
    "\n",
    "    thing = thing.json()\n",
    "    thing[\"results\"][0][\"address_components\"]\n",
    "\n",
    "\n",
    "    for addressComp in thing[\"results\"][0][\"address_components\"]:\n",
    "        if addressComp[\"types\"][0] == \"country\":\n",
    "            rtnCountry = addressComp[\"long_name\"]\n",
    "            \n",
    "    return rtnCountry"
   ]
  },
  {
   "cell_type": "markdown",
   "metadata": {},
   "source": [
    "Store Countries in a List"
   ]
  },
  {
   "cell_type": "code",
   "execution_count": 13,
   "metadata": {},
   "outputs": [],
   "source": [
    "countries = []\n",
    "\n",
    "for indx, row in hotel_df.iterrows():\n",
    "    countries.append(getCountryForCity(row.Latitude, row.Longitude, hotel_df))"
   ]
  },
  {
   "cell_type": "markdown",
   "metadata": {},
   "source": [
    "### Create Function to obtain Hotel Details\n",
    "\n",
    "- store the hotel details (names, addresses & ratings) into lists\n",
    "- add the lists as columns to the dataframe"
   ]
  },
  {
   "cell_type": "code",
   "execution_count": 14,
   "metadata": {},
   "outputs": [],
   "source": [
    "def getHoteldetails (df):\n",
    "    names = []\n",
    "    addresses = []\n",
    "    ratings = []\n",
    "    new_df = pd.DataFrame()\n",
    "    \n",
    "    params = {\n",
    "        \"radius\": 5000,\n",
    "        \"types\": \"hotel\",\n",
    "        \"keyword\": \"hotel\",\n",
    "        \"key\": g_key\n",
    "    }\n",
    "\n",
    "    for index, row in df.iterrows():\n",
    "        lat = row[\"Latitude\"]\n",
    "        lng = row[\"Longitude\"]\n",
    "\n",
    "        params[\"location\"] = f\"{lat},{lng}\"\n",
    "        base_url = \"https://maps.googleapis.com/maps/api/place/nearbysearch/json\"\n",
    "\n",
    "        name_address = requests.get(base_url, params=params)\n",
    "        name_address = name_address.json()\n",
    "\n",
    "        try:\n",
    "            names.append(name_address[\"results\"][0][\"name\"])\n",
    "            addresses.append(name_address[\"results\"][0][\"vicinity\"])\n",
    "            ratings.append(name_address[\"results\"][0][\"rating\"])\n",
    "        except (KeyError, IndexError):\n",
    "            print(\"Missing field/result... skipping.\")\n",
    "            names.append(\"\")\n",
    "            addresses.append(\"\")\n",
    "            ratings.append(\"\")\n",
    "    \n",
    "    new_df[\"Hotels\"] = names\n",
    "    new_df[\"Addresses\"] = addresses\n",
    "    new_df[\"Ratings\"] = ratings\n",
    "    \n",
    "    return new_df"
   ]
  },
  {
   "cell_type": "code",
   "execution_count": 15,
   "metadata": {},
   "outputs": [
    {
     "name": "stdout",
     "output_type": "stream",
     "text": [
      "Missing field/result... skipping.\n",
      "Missing field/result... skipping.\n"
     ]
    }
   ],
   "source": [
    "hotel_details = getHoteldetails(hotel_df)"
   ]
  },
  {
   "cell_type": "markdown",
   "metadata": {},
   "source": [
    "### Update Ideal Cities DataFrame\n",
    "\n",
    "- add columns with Country, Hotel, Hotel Address and Rating"
   ]
  },
  {
   "cell_type": "code",
   "execution_count": 16,
   "metadata": {},
   "outputs": [
    {
     "data": {
      "text/html": [
       "<div>\n",
       "<style scoped>\n",
       "    .dataframe tbody tr th:only-of-type {\n",
       "        vertical-align: middle;\n",
       "    }\n",
       "\n",
       "    .dataframe tbody tr th {\n",
       "        vertical-align: top;\n",
       "    }\n",
       "\n",
       "    .dataframe thead th {\n",
       "        text-align: right;\n",
       "    }\n",
       "</style>\n",
       "<table border=\"1\" class=\"dataframe\">\n",
       "  <thead>\n",
       "    <tr style=\"text-align: right;\">\n",
       "      <th></th>\n",
       "      <th>City</th>\n",
       "      <th>Latitude</th>\n",
       "      <th>Longitude</th>\n",
       "      <th>Temperature</th>\n",
       "      <th>Humidity</th>\n",
       "      <th>Pressure</th>\n",
       "      <th>Wind Speed</th>\n",
       "      <th>Cloudiness</th>\n",
       "      <th>Country</th>\n",
       "      <th>Hotel</th>\n",
       "      <th>Address</th>\n",
       "      <th>Ratings</th>\n",
       "    </tr>\n",
       "  </thead>\n",
       "  <tbody>\n",
       "    <tr>\n",
       "      <th>0</th>\n",
       "      <td>soto la marina</td>\n",
       "      <td>23.77</td>\n",
       "      <td>-98.22</td>\n",
       "      <td>25.00</td>\n",
       "      <td>80</td>\n",
       "      <td>1014</td>\n",
       "      <td>5.36</td>\n",
       "      <td>0</td>\n",
       "      <td>Mexico</td>\n",
       "      <td>Hotel Los Generales INN</td>\n",
       "      <td>Pablo L. Sidar SN-S TALLER MECANICO BERNAL, Ju...</td>\n",
       "      <td>4.3</td>\n",
       "    </tr>\n",
       "    <tr>\n",
       "      <th>1</th>\n",
       "      <td>vila velha</td>\n",
       "      <td>-20.33</td>\n",
       "      <td>-40.29</td>\n",
       "      <td>21.18</td>\n",
       "      <td>94</td>\n",
       "      <td>1018</td>\n",
       "      <td>1.50</td>\n",
       "      <td>0</td>\n",
       "      <td>Brazil</td>\n",
       "      <td>Golden Tulip Porto Vitória</td>\n",
       "      <td>Av. Nossa Sra. dos Navegantes, 635 - Enseada d...</td>\n",
       "      <td>4.6</td>\n",
       "    </tr>\n",
       "    <tr>\n",
       "      <th>2</th>\n",
       "      <td>redlands</td>\n",
       "      <td>34.06</td>\n",
       "      <td>-117.18</td>\n",
       "      <td>22.24</td>\n",
       "      <td>52</td>\n",
       "      <td>1008</td>\n",
       "      <td>1.79</td>\n",
       "      <td>0</td>\n",
       "      <td>United States</td>\n",
       "      <td>Ayres Hotel Redlands</td>\n",
       "      <td>1015 W Colton Ave, Redlands</td>\n",
       "      <td>4.5</td>\n",
       "    </tr>\n",
       "    <tr>\n",
       "      <th>3</th>\n",
       "      <td>katsuura</td>\n",
       "      <td>35.13</td>\n",
       "      <td>140.30</td>\n",
       "      <td>24.27</td>\n",
       "      <td>60</td>\n",
       "      <td>1013</td>\n",
       "      <td>6.70</td>\n",
       "      <td>0</td>\n",
       "      <td>Japan</td>\n",
       "      <td>Katsuura Hilltop Hotel &amp; Residence</td>\n",
       "      <td>441-1 Sawakura, Katsuura</td>\n",
       "      <td>3.6</td>\n",
       "    </tr>\n",
       "    <tr>\n",
       "      <th>4</th>\n",
       "      <td>tiznit</td>\n",
       "      <td>29.58</td>\n",
       "      <td>-9.50</td>\n",
       "      <td>21.07</td>\n",
       "      <td>44</td>\n",
       "      <td>1017</td>\n",
       "      <td>0.70</td>\n",
       "      <td>0</td>\n",
       "      <td>Morocco</td>\n",
       "      <td></td>\n",
       "      <td></td>\n",
       "      <td></td>\n",
       "    </tr>\n",
       "  </tbody>\n",
       "</table>\n",
       "</div>"
      ],
      "text/plain": [
       "             City  Latitude  Longitude  Temperature  Humidity  Pressure  \\\n",
       "0  soto la marina     23.77     -98.22        25.00        80      1014   \n",
       "1      vila velha    -20.33     -40.29        21.18        94      1018   \n",
       "2        redlands     34.06    -117.18        22.24        52      1008   \n",
       "3        katsuura     35.13     140.30        24.27        60      1013   \n",
       "4          tiznit     29.58      -9.50        21.07        44      1017   \n",
       "\n",
       "   Wind Speed  Cloudiness        Country                               Hotel  \\\n",
       "0        5.36           0         Mexico             Hotel Los Generales INN   \n",
       "1        1.50           0         Brazil          Golden Tulip Porto Vitória   \n",
       "2        1.79           0  United States                Ayres Hotel Redlands   \n",
       "3        6.70           0          Japan  Katsuura Hilltop Hotel & Residence   \n",
       "4        0.70           0        Morocco                                       \n",
       "\n",
       "                                             Address Ratings  \n",
       "0  Pablo L. Sidar SN-S TALLER MECANICO BERNAL, Ju...     4.3  \n",
       "1  Av. Nossa Sra. dos Navegantes, 635 - Enseada d...     4.6  \n",
       "2                        1015 W Colton Ave, Redlands     4.5  \n",
       "3                           441-1 Sawakura, Katsuura     3.6  \n",
       "4                                                             "
      ]
     },
     "execution_count": 16,
     "metadata": {},
     "output_type": "execute_result"
    }
   ],
   "source": [
    "hotel_df[\"Country\"] = countries\n",
    "hotel_df[\"Hotel\"] = hotel_details[\"Hotels\"]\n",
    "hotel_df[\"Address\"] = hotel_details[\"Addresses\"]\n",
    "hotel_df[\"Ratings\"] = hotel_details[\"Ratings\"]\n",
    "hotel_df.head()"
   ]
  },
  {
   "cell_type": "markdown",
   "metadata": {},
   "source": [
    "### Map of Hotels\n",
    "\n",
    "- include pop-up with details on ideal cities"
   ]
  },
  {
   "cell_type": "code",
   "execution_count": 17,
   "metadata": {},
   "outputs": [],
   "source": [
    "city_info = []\n",
    "\n",
    "for indx, row in hotel_df.iterrows():\n",
    "    info_box = f\"\"\"\n",
    "                <dl>\n",
    "                <dt>Hotel Name</dt><dd>{row.Hotel}</dd>\n",
    "                <dt>City</dt><dd>{row.City}</dd>\n",
    "                <dt>Country</dt><dd>{row.Country}</dd>\n",
    "                <dt>Rating</dt><dd>{row.Ratings}</dd>\n",
    "                </dl>\n",
    "                \"\"\"\n",
    "    \n",
    "    city_info.append(info_box)"
   ]
  },
  {
   "cell_type": "code",
   "execution_count": 18,
   "metadata": {},
   "outputs": [
    {
     "data": {
      "application/vnd.jupyter.widget-view+json": {
       "model_id": "08d1c5811f4b449aa86a15746f0817f9",
       "version_major": 2,
       "version_minor": 0
      },
      "text/plain": [
       "Figure(layout=FigureLayout(border='1px solid black', height='600px', margin='0 auto 0 auto', padding='1px', wi…"
      ]
     },
     "metadata": {},
     "output_type": "display_data"
    }
   ],
   "source": [
    "figure_layout = {\n",
    "    'width': '950px',\n",
    "    'height': '600px',\n",
    "    'border': '1px solid black',\n",
    "    'padding': '1px',\n",
    "    'margin': '0 auto 0 auto'\n",
    "}\n",
    "\n",
    "hotel_locale = hotel_df[[\"Latitude\", \"Longitude\"]]\n",
    "hotel_temp = hotel_df[\"Temperature\"]\n",
    "\n",
    "# Plot Heatmap\n",
    "fig = gmaps.figure(map_type=\"TERRAIN\", layout=figure_layout)\n",
    "\n",
    "# Create heat layer\n",
    "heat_layer = gmaps.heatmap_layer(hotel_locale, weights=hotel_temp, dissipating=True)\n",
    "fig.add_layer(heat_layer)\n",
    "\n",
    "coordinates = hotel_df[[\"Latitude\", \"Longitude\"]]\n",
    "marker_layer = gmaps.marker_layer(coordinates, info_box_content=city_info)\n",
    "fig.add_layer(marker_layer)\n",
    "\n",
    "# Display figure\n",
    "fig"
   ]
  },
  {
   "cell_type": "code",
   "execution_count": null,
   "metadata": {},
   "outputs": [],
   "source": []
  }
 ],
 "metadata": {
  "kernelspec": {
   "display_name": "Python 3",
   "language": "python",
   "name": "python3"
  },
  "language_info": {
   "codemirror_mode": {
    "name": "ipython",
    "version": 3
   },
   "file_extension": ".py",
   "mimetype": "text/x-python",
   "name": "python",
   "nbconvert_exporter": "python",
   "pygments_lexer": "ipython3",
   "version": "3.7.6"
  },
  "latex_envs": {
   "LaTeX_envs_menu_present": true,
   "autoclose": false,
   "autocomplete": true,
   "bibliofile": "biblio.bib",
   "cite_by": "apalike",
   "current_citInitial": 1,
   "eqLabelWithNumbers": true,
   "eqNumInitial": 1,
   "hotkeys": {
    "equation": "Ctrl-E",
    "itemize": "Ctrl-I"
   },
   "labels_anchors": false,
   "latex_user_defs": false,
   "report_style_numbering": false,
   "user_envs_cfg": false
  }
 },
 "nbformat": 4,
 "nbformat_minor": 2
}
